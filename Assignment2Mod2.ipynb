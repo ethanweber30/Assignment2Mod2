{
 "cells": [
  {
   "cell_type": "code",
   "execution_count": null,
   "id": "554051ef-20cb-40e7-8cf6-e25110ad6245",
   "metadata": {},
   "outputs": [],
   "source": [
    "import requests\n",
    "from bs4 import BeautifulSoup\n",
    "import networkx as nx\n",
    "import matplotlib.pyplot as plt\n",
    "\n",
    "\n",
    "\n",
    "\n"
   ]
  },
  {
   "cell_type": "code",
   "execution_count": null,
   "id": "70b93fdf-82f2-4229-8ffb-c3f4da208231",
   "metadata": {},
   "outputs": [],
   "source": [
    "def scrape_articles(seed_url, num_articles):\n",
    "    articles = []\n",
    "    for i in range(num_articles):\n",
    "        response = requests.get(seed_url)\n",
    "        soup = BeautifulSoup(response.text, 'html.parser')\n",
    "        \n",
    "        article_title = soup.title.text\n",
    "        hyperlinks = [a['href'] for a in soup.find_all('a', href=True)]\n",
    "        \n",
    "        articles.append({'title': article_title, 'hyperlinks': hyperlinks})\n",
    "        \n",
    "    return articles"
   ]
  },
  {
   "cell_type": "code",
   "execution_count": null,
   "id": "e19d2ec3-67f5-4c60-84be-ce8983f029b7",
   "metadata": {},
   "outputs": [],
   "source": [
    "def build_network_graph(articles):\n",
    "    graph = nx.Graph()\n",
    "    \n",
    "    for article in articles:\n",
    "        article_title = article['title']\n",
    "        graph.add_node(article_title)\n",
    "        \n",
    "        for hyperlink in article['hyperlinks']:\n",
    "            graph.add_edge(article_title, hyperlink)\n",
    "    \n",
    "    return graph\n"
   ]
  },
  {
   "cell_type": "code",
   "execution_count": null,
   "id": "80bc2f30-e935-437c-b8e0-18ed45e3f303",
   "metadata": {},
   "outputs": [],
   "source": [
    "def identify_important_nodes(graph):\n",
    "    degree_centrality = nx.degree_centrality(graph)\n",
    "    important_nodes = sorted(degree_centrality, key=degree_centrality.get, reverse=True)[:3]\n",
    "    \n",
    "    return important_nodes"
   ]
  },
  {
   "cell_type": "code",
   "execution_count": null,
   "id": "5e775840-9c41-47a5-b348-518044d50ae1",
   "metadata": {},
   "outputs": [],
   "source": [
    "def visualize_network_graph(graph):\n",
    "    pos = nx.spring_layout(graph)\n",
    "    nx.draw(graph, pos, with_labels=True, font_size=8, node_size=300, node_color='skyblue')\n",
    "    plt.show()"
   ]
  },
  {
   "cell_type": "code",
   "execution_count": null,
   "id": "882b2402-3438-4d55-9e94-e99db0bf6d1a",
   "metadata": {},
   "outputs": [],
   "source": [
    "seed_url = 'https://medium.com'\n",
    "num_articles = 100\n",
    "\n",
    "articles_data = scrape_articles(seed_url, num_articles)\n",
    "network_graph = build_network_graph(articles_data)\n",
    "important_nodes = identify_important_nodes(network_graph)\n",
    "\n",
    "print(\"Important Nodes:\", important_nodes)\n",
    "\n",
    "visualize_network_graph(network_graph)\n"
   ]
  }
 ],
 "metadata": {
  "kernelspec": {
   "display_name": "Python 3 (ipykernel)",
   "language": "python",
   "name": "python3"
  },
  "language_info": {
   "codemirror_mode": {
    "name": "ipython",
    "version": 3
   },
   "file_extension": ".py",
   "mimetype": "text/x-python",
   "name": "python",
   "nbconvert_exporter": "python",
   "pygments_lexer": "ipython3",
   "version": "3.10.2"
  }
 },
 "nbformat": 4,
 "nbformat_minor": 5
}
